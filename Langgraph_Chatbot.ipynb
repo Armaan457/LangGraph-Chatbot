{
  "cells": [
    {
      "cell_type": "code",
      "execution_count": null,
      "metadata": {
        "id": "7Z5eoC0PMbSj",
        "collapsed": true
      },
      "outputs": [],
      "source": [
        "!pip install langchain langgraph langchain_community langchain_groq tiktoken"
      ]
    },
    {
      "cell_type": "code",
      "execution_count": null,
      "metadata": {
        "id": "ln3odSwdgiRy"
      },
      "outputs": [],
      "source": [
        "!pip install langchain_huggingface langchain_astradb"
      ]
    },
    {
      "cell_type": "code",
      "execution_count": 75,
      "metadata": {
        "colab": {
          "base_uri": "https://localhost:8080/"
        },
        "id": "vXYX6Ixb1gLM",
        "outputId": "89560325-bb18-480e-de75-8a2898230be5"
      },
      "outputs": [
        {
          "output_type": "execute_result",
          "data": {
            "text/plain": [
              "HuggingFaceEmbeddings(model_name='sentence-transformers/all-MiniLM-L6-v2', cache_folder=None, model_kwargs={}, encode_kwargs={}, multi_process=False, show_progress=False)"
            ]
          },
          "metadata": {},
          "execution_count": 75
        }
      ],
      "source": [
        "from langchain_huggingface import HuggingFaceEmbeddings\n",
        "embeddings = HuggingFaceEmbeddings(model_name=\"sentence-transformers/all-MiniLM-L6-v2\")\n",
        "embeddings"
      ]
    },
    {
      "cell_type": "code",
      "execution_count": 76,
      "metadata": {
        "id": "INZ3XP-P1hmp"
      },
      "outputs": [],
      "source": [
        "from langchain_astradb import AstraDBVectorStore\n",
        "from google.colab import userdata\n",
        "\n",
        "vector_store = AstraDBVectorStore(\n",
        "    collection_name=\"langgraph_chatbot\",\n",
        "    embedding=embeddings,\n",
        "    api_endpoint=userdata.get('ASTRA_DB_API_ENDPOINT'),\n",
        "    token=userdata.get('ASTRA_DB_APPLICATION_TOKEN'),\n",
        "    namespace=\"default_keyspace\",\n",
        ")"
      ]
    },
    {
      "cell_type": "code",
      "execution_count": 99,
      "metadata": {
        "colab": {
          "base_uri": "https://localhost:8080/"
        },
        "id": "dzoyd5db9Cjt",
        "outputId": "5c046f0d-ef82-4dda-d535-3da46616d0b8"
      },
      "outputs": [
        {
          "output_type": "stream",
          "name": "stderr",
          "text": [
            "WARNING:langchain_community.utils.user_agent:USER_AGENT environment variable not set, consider setting it to identify your requests.\n"
          ]
        }
      ],
      "source": [
        "from langchain.text_splitter import RecursiveCharacterTextSplitter\n",
        "from langchain_community.document_loaders import WebBaseLoader\n",
        "\n",
        "urls = [\n",
        "    \"https://langchain-ai.github.io/langgraph/concepts/\",\n",
        "    \"https://langchain-ai.github.io/langgraph/tutorials/introduction/\"\n",
        "]\n",
        "\n",
        "docs = [WebBaseLoader(url).load() for url in urls]\n",
        "doc_list = [item for sublist in docs for item in sublist]\n",
        "text_splitter = RecursiveCharacterTextSplitter.from_tiktoken_encoder(chunk_size = 800, chunk_overlap = 200)\n",
        "final_docs = text_splitter.split_documents(doc_list)"
      ]
    },
    {
      "cell_type": "code",
      "execution_count": null,
      "metadata": {
        "id": "GCbUTDwTbbMd"
      },
      "outputs": [],
      "source": [
        "vector_store.add_documents(final_docs)"
      ]
    },
    {
      "cell_type": "code",
      "execution_count": 77,
      "metadata": {
        "id": "ZHsX_r1Sbw0u"
      },
      "outputs": [],
      "source": [
        "retriever = vector_store.as_retriever(top_k_results=5)"
      ]
    },
    {
      "cell_type": "code",
      "execution_count": 78,
      "metadata": {
        "id": "EPOROEbkcggU"
      },
      "outputs": [],
      "source": [
        "from typing import Literal\n",
        "from langchain_core.prompts import ChatPromptTemplate\n",
        "from langchain_core.pydantic_v1 import BaseModel, Field"
      ]
    },
    {
      "cell_type": "code",
      "execution_count": 79,
      "metadata": {
        "id": "chHW5pwRc7dv"
      },
      "outputs": [],
      "source": [
        "class RouteQuery(BaseModel):\n",
        "  datasource : Literal[\"vectorstore\", \"wiki_search\"] = Field(\n",
        "      description = \"Given a user data, route it to wiki search or vector store\"\n",
        "  )"
      ]
    },
    {
      "cell_type": "code",
      "execution_count": 80,
      "metadata": {
        "id": "5TGIes5UeCY2"
      },
      "outputs": [],
      "source": [
        "from langchain_groq import ChatGroq\n",
        "groq_api_key = userdata.get('GROQ_API_KEY')\n",
        "llm = ChatGroq(model=\"llama-3.1-70b-versatile\", groq_api_key = groq_api_key)"
      ]
    },
    {
      "cell_type": "code",
      "execution_count": 81,
      "metadata": {
        "id": "M7a3IDO2eVBl"
      },
      "outputs": [],
      "source": [
        "structured_llm_router = llm.with_structured_output(RouteQuery)"
      ]
    },
    {
      "cell_type": "code",
      "execution_count": 82,
      "metadata": {
        "id": "zbfDn8esem7L"
      },
      "outputs": [],
      "source": [
        "sys_prompt = \"\"\"\n",
        "You are an expert at routing a user question to wiki search or vector store.\n",
        "The vector store contains information about LangGraph and it's concepts only.\n",
        "Use the vector store on these topics othervise use wiki search.\n",
        "\"\"\"\n",
        "route_prompt = ChatPromptTemplate.from_messages(\n",
        "    [\n",
        "      (\"system\", sys_prompt),\n",
        "      (\"user\", \"{question}\")\n",
        "    ]\n",
        ")\n",
        "router = route_prompt | structured_llm_router"
      ]
    },
    {
      "cell_type": "code",
      "execution_count": 83,
      "metadata": {
        "colab": {
          "base_uri": "https://localhost:8080/",
          "height": 35
        },
        "id": "yeIWL216fmMB",
        "outputId": "fede13e0-b305-419c-a3b1-f844957f96f7"
      },
      "outputs": [
        {
          "output_type": "execute_result",
          "data": {
            "text/plain": [
              "'wiki_search'"
            ],
            "application/vnd.google.colaboratory.intrinsic+json": {
              "type": "string"
            }
          },
          "metadata": {},
          "execution_count": 83
        }
      ],
      "source": [
        "router.invoke({\"question\": \"What is React js?\"}).datasource"
      ]
    },
    {
      "cell_type": "code",
      "execution_count": null,
      "metadata": {
        "id": "KLEzBN6vgCWk"
      },
      "outputs": [],
      "source": [
        "!pip install wikipedia"
      ]
    },
    {
      "cell_type": "code",
      "execution_count": 85,
      "metadata": {
        "id": "GiZb_jNzgORt"
      },
      "outputs": [],
      "source": [
        "from langchain_community.utilities import WikipediaAPIWrapper\n",
        "from langchain_community.tools import WikipediaQueryRun\n",
        "wiki_wrapper = WikipediaAPIWrapper(top_k_results=5, doc_content_chars_max=200)\n",
        "wiki = WikipediaQueryRun(api_wrapper=wiki_wrapper)"
      ]
    },
    {
      "cell_type": "code",
      "execution_count": 100,
      "metadata": {
        "colab": {
          "base_uri": "https://localhost:8080/",
          "height": 70
        },
        "id": "foecIjQ-gZYY",
        "outputId": "8230a77c-e6eb-42bd-a22b-4a0d43ce81d4"
      },
      "outputs": [
        {
          "output_type": "execute_result",
          "data": {
            "text/plain": [
              "'Page: React (software)\\nSummary: React (also known as React.js or ReactJS) is a free and open-source front-end JavaScript library that aims to make building user interfaces based on components more \"se'"
            ],
            "application/vnd.google.colaboratory.intrinsic+json": {
              "type": "string"
            }
          },
          "metadata": {},
          "execution_count": 100
        }
      ],
      "source": [
        "wiki.invoke(\"What is react js\")"
      ]
    },
    {
      "cell_type": "code",
      "execution_count": 86,
      "metadata": {
        "id": "CBTUnAaYgdo7"
      },
      "outputs": [],
      "source": [
        "from typing import List\n",
        "from typing_extensions import TypedDict\n",
        "\n",
        "class GraphState(TypedDict):\n",
        "  question: str\n",
        "  generation: str\n",
        "  documents: List[str]\n",
        "  chat_history: str"
      ]
    },
    {
      "cell_type": "code",
      "execution_count": 87,
      "metadata": {
        "id": "aG9PfZhthPH4"
      },
      "outputs": [],
      "source": [
        "def retrieve(state):\n",
        "  print('----RETRIEVAL----')\n",
        "  question = state[\"question\"]\n",
        "  docs = retriever.invoke(question)\n",
        "  ret_docs = [\"\".join([doc.page_content for doc in docs])]\n",
        "  state[\"chat_history\"] += f\"User: {state['question']}\\n\"\n",
        "  return {\"documents\":ret_docs, \"question\":question, \"chat_history\": state[\"chat_history\"]}\n",
        "\n",
        "def wiki_search(state):\n",
        "  print('----WIKI SEARCH----')\n",
        "  question = state[\"question\"]\n",
        "  #print(question)\n",
        "  wiki_docs = wiki.invoke(question)\n",
        "  #print(wiki_docs)\n",
        "  state[\"chat_history\"] += f\"User: {state['question']}\\n\"\n",
        "  return {\"documents\":wiki_docs, \"question\":question, \"chat_history\": state[\"chat_history\"]}\n",
        "\n",
        "def route_ques(state):\n",
        "  print('----ROUTING QUERY----')\n",
        "  question = state[\"question\"]\n",
        "  datasource = router.invoke(question).datasource\n",
        "  if datasource == \"vectorstore\":\n",
        "    return \"vectorstore\"\n",
        "  elif datasource == \"wiki_search\":\n",
        "    return \"wiki_search\"\n",
        "  else:\n",
        "    print(\"----ROUTING FAILED----\")"
      ]
    },
    {
      "cell_type": "code",
      "execution_count": 88,
      "metadata": {
        "id": "xwysFHt4_X-w"
      },
      "outputs": [],
      "source": [
        "def generate_answer(state):\n",
        "  print('----GENERATING ANSWER----')\n",
        "  groq_api_key = userdata.get('GROQ_API_KEY')\n",
        "  llm_ans = ChatGroq(model=\"llama-3.1-70b-versatile\", groq_api_key=groq_api_key)\n",
        "  prompt_template = ChatPromptTemplate.from_template(\n",
        "      \"\"\"\n",
        "  Use the following pieces of context to answer the question at the end.\n",
        "  If you don't know the answer, just say that you don't know, don't try to make up an answer.\n",
        "  Answer in brief.\n",
        "\n",
        "  {context}\n",
        "\n",
        "  Question: {question}\n",
        "  Answer:\"\"\"\n",
        "  )\n",
        "  prompt = prompt_template.format_prompt(context=state[\"documents\"], question=state[\"question\"])\n",
        "  #print(prompt)\n",
        "  answer = llm_ans.invoke(prompt)\n",
        "  state[\"chat_history\"] += f\"Assistant: {answer.content}\\n\"\n",
        "  return {\"generation\": answer, \"question\": state[\"question\"], \"chat_history\": state[\"chat_history\"]}"
      ]
    },
    {
      "cell_type": "code",
      "execution_count": 94,
      "metadata": {
        "id": "BTJIV_QjvP3x"
      },
      "outputs": [],
      "source": [
        "def reformulate_question(state):\n",
        "    print('----REFORMULATING QUESTION----')\n",
        "    groq_api_key = userdata.get('GROQ_API_KEY')\n",
        "    llm_ref = ChatGroq(model=\"llama-3.1-70b-versatile\", groq_api_key=groq_api_key)\n",
        "    #print(state[\"chat_history\"])\n",
        "    template = ChatPromptTemplate.from_template(\n",
        "    \"\"\"\n",
        "    Given a chat history and the latest user question\n",
        "    which might or might not reference a context in the chat history\n",
        "    formulate a standalone question that can be understood without referencing the chat history\n",
        "    Do not answer the question, just reformulate it and return it as it it is\n",
        "\n",
        "    chat history: {chat_history}\n",
        "    question: {question}\n",
        "    \"\"\")\n",
        "\n",
        "    #print(state[\"chat_history\"])\n",
        "    prompt_ref = template.format_prompt(chat_history=state[\"chat_history\"], question=state[\"question\"])\n",
        "    #print(prompt_ref)\n",
        "    reformulated_question = llm_ref.invoke(prompt_ref)\n",
        "    state[\"question\"] = reformulated_question.content.strip()\n",
        "\n",
        "    return state"
      ]
    },
    {
      "cell_type": "code",
      "execution_count": 95,
      "metadata": {
        "id": "9VJv_Pc8_0PF"
      },
      "outputs": [],
      "source": [
        "from langgraph.graph import StateGraph, START, END\n",
        "\n",
        "graph = StateGraph(GraphState)\n",
        "graph.add_node(\"retrieve\", retrieve)\n",
        "graph.add_node(\"wiki_search\", wiki_search)\n",
        "graph.add_node(\"reformulate_question\", reformulate_question)\n",
        "graph.add_edge(START, \"reformulate_question\")\n",
        "\n",
        "graph.add_conditional_edges(\n",
        "    \"reformulate_question\",\n",
        "    route_ques,\n",
        "    {\n",
        "        \"vectorstore\": \"retrieve\",\n",
        "        \"wiki_search\": \"wiki_search\"\n",
        "    }\n",
        ")\n",
        "\n",
        "graph.add_node(\"generate_answer\", generate_answer)\n",
        "graph.add_edge(\"retrieve\", \"generate_answer\")\n",
        "graph.add_edge(\"wiki_search\", \"generate_answer\")\n",
        "graph.add_edge(\"generate_answer\", END)\n",
        "\n",
        "app = graph.compile()"
      ]
    },
    {
      "cell_type": "code",
      "execution_count": 96,
      "metadata": {
        "colab": {
          "base_uri": "https://localhost:8080/",
          "height": 473
        },
        "id": "eUM-RzSLABJl",
        "outputId": "561df815-5252-4327-a1ee-52f9a0b11214"
      },
      "outputs": [
        {
          "output_type": "display_data",
          "data": {
            "image/png": "[encoded data removed]",
            "text/plain": [
              "<IPython.core.display.Image object>"
            ]
          },
          "metadata": {}
        }
      ],
      "source": [
        "from IPython.display import display, Image\n",
        "try:\n",
        "    display(Image(app.get_graph().draw_mermaid_png()))\n",
        "except:\n",
        "    pass"
      ]
    },
    {
      "cell_type": "code",
      "execution_count": 98,
      "metadata": {
        "colab": {
          "base_uri": "https://localhost:8080/"
        },
        "id": "K_fIk3sWhosV",
        "outputId": "c6a20862-fd17-4375-e0d8-90b78f718c09"
      },
      "outputs": [
        {
          "name": "stdout",
          "output_type": "stream",
          "text": [
            "Enter your question (or type 'exit' to quit): what is react js\n",
            "----REFORMULATING QUESTION----\n",
            "----ROUTING QUERY----\n",
            "----WIKI SEARCH----\n",
            "----GENERATING ANSWER----\n",
            "Assistant: A free and open-source front-end JavaScript library for building user interfaces based on components.\n",
            "Enter your question (or type 'exit' to quit): what language is it written in?\n",
            "----REFORMULATING QUESTION----\n",
            "----ROUTING QUERY----\n",
            "----WIKI SEARCH----\n",
            "----GENERATING ANSWER----\n",
            "Assistant: JavaScript.\n",
            "Enter your question (or type 'exit' to quit): what is langgraph?\n",
            "----REFORMULATING QUESTION----\n",
            "----ROUTING QUERY----\n",
            "----RETRIEVAL----\n",
            "----GENERATING ANSWER----\n",
            "Assistant: LangGraph is a library for building stateful, multi-actor applications with Large Language Models (LLMs), particularly useful for creating agent and multi-agent workflows.\n",
            "Enter your question (or type 'exit' to quit): how is it different from langchain?\n",
            "----REFORMULATING QUESTION----\n",
            "----ROUTING QUERY----\n",
            "----RETRIEVAL----\n",
            "----GENERATING ANSWER----\n",
            "Assistant: LangGraph is built on top of LangChain and offers additional features such as cycles, controllability, and persistence, making it more suitable for creating complex agent systems and stateful applications.\n",
            "Enter your question (or type 'exit' to quit): exit\n"
          ]
        }
      ],
      "source": [
        "chat_history = \"\"  # Initialize chat history outside the loop\n",
        "while True:\n",
        "    question = input(\"Enter your question (or type 'exit' to quit): \")\n",
        "    if question.lower() == \"exit\":\n",
        "        break\n",
        "\n",
        "    input_data = {\"question\": question, \"chat_history\": chat_history}\n",
        "    for final_state in app.stream(input_data):\n",
        "        pass\n",
        "\n",
        "    print(\"Assistant:\", final_state[\"generate_answer\"][\"generation\"].content)\n",
        "    chat_history = final_state[\"generate_answer\"][\"chat_history\"]"
      ]
    }
  ],
  "metadata": {
    "colab": {
      "provenance": [],
      "authorship_tag": "ABX9TyNIYovCN1v091ScBO2b5ztP"
    },
    "kernelspec": {
      "display_name": "Python 3",
      "name": "python3"
    },
    "language_info": {
      "name": "python"
    }
  },
  "nbformat": 4,
  "nbformat_minor": 0
}